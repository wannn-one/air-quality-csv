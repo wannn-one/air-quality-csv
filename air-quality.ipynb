{
 "cells": [
  {
   "cell_type": "code",
   "execution_count": 1,
   "metadata": {},
   "outputs": [],
   "source": [
    "import pandas as pd"
   ]
  },
  {
   "cell_type": "code",
   "execution_count": 2,
   "metadata": {},
   "outputs": [],
   "source": [
    "data = pd.read_csv('data/AirQualityUCI1.csv', encoding='gbk')"
   ]
  },
  {
   "cell_type": "markdown",
   "metadata": {},
   "source": [
    "### 1. Cek apakah terdapat missing value pada seluruh variabel ! (cek dengan baik apakah benar-benar tidak ada missing value atau terdapat missing value yang berbentuk angka!)"
   ]
  },
  {
   "cell_type": "code",
   "execution_count": 3,
   "metadata": {},
   "outputs": [
    {
     "name": "stdout",
     "output_type": "stream",
     "text": [
      "Date             0\n",
      "Time             0\n",
      "CO(GT)           0\n",
      "PT08.S1(CO)      0\n",
      "NMHC(GT)         0\n",
      "C6H6(GT)         0\n",
      "PT08.S2(NMHC)    0\n",
      "NOx(GT)          0\n",
      "PT08.S3(NOx)     0\n",
      "NO2(GT)          0\n",
      "PT08.S4(NO2)     0\n",
      "PT08.S5(O3)      0\n",
      "T                0\n",
      "RH               0\n",
      "AH               0\n",
      "dtype: int64\n"
     ]
    }
   ],
   "source": [
    "# Cek apakah terdapat missing value pada seluruh variabel\n",
    "print(data.isnull().sum())"
   ]
  },
  {
   "cell_type": "markdown",
   "metadata": {},
   "source": [
    "### 2. Tunjukkan nilai median, rata-rata, dan modus dari seluruh variabel ! (tanpa variabel waktu)"
   ]
  },
  {
   "cell_type": "code",
   "execution_count": 4,
   "metadata": {},
   "outputs": [],
   "source": [
    "# Me-replace komanya menjadi titik dan mengubah tipe data menjadi float agar dapat diolah\n",
    "data['CO(GT)'] = data['CO(GT)'].str.replace(',', '.').astype(float)\n",
    "data['C6H6(GT)'] = data['C6H6(GT)'].str.replace(',', '.').astype(float)\n",
    "data['T'] = data['T'].str.replace(',', '.').astype(float)\n",
    "data['RH'] = data['RH'].str.replace(',', '.').astype(float)\n",
    "data['AH'] = data['AH'].str.replace(',', '.').astype(float)"
   ]
  },
  {
   "cell_type": "code",
   "execution_count": 5,
   "metadata": {},
   "outputs": [
    {
     "name": "stdout",
     "output_type": "stream",
     "text": [
      "1053.0\n",
      "1048.9900609169606\n",
      "0   -200\n",
      "Name: PT08.S1(CO), dtype: int64\n"
     ]
    }
   ],
   "source": [
    "# median PT08.S1(CO)\n",
    "median = data['PT08.S1(CO)'].median()\n",
    "print(median)\n",
    "\n",
    "# mean PT08.S\n",
    "mean = data['PT08.S1(CO)'].mean()\n",
    "print(mean)\n",
    "\n",
    "# modus PT08.S1(CO)\n",
    "modus = data['PT08.S1(CO)'].mode()\n",
    "print(modus)"
   ]
  },
  {
   "cell_type": "code",
   "execution_count": 6,
   "metadata": {},
   "outputs": [
    {
     "name": "stdout",
     "output_type": "stream",
     "text": [
      "1053.0\n",
      "1048.9900609169606\n",
      "0   -200\n",
      "Name: PT08.S1(CO), dtype: int64\n"
     ]
    }
   ],
   "source": [
    "# median PT08.S1(CO)\n",
    "median = data['PT08.S1(CO)'].median()\n",
    "print(median)\n",
    "\n",
    "# mean PT08.S\n",
    "mean = data['PT08.S1(CO)'].mean()\n",
    "print(mean)\n",
    "\n",
    "# modus PT08.S1(CO)\n",
    "modus = data['PT08.S1(CO)'].mode()\n",
    "print(modus)"
   ]
  },
  {
   "cell_type": "code",
   "execution_count": 7,
   "metadata": {},
   "outputs": [
    {
     "name": "stdout",
     "output_type": "stream",
     "text": [
      "-200.0\n",
      "-159.09009297851875\n",
      "0   -200\n",
      "Name: NMHC(GT), dtype: int64\n"
     ]
    }
   ],
   "source": [
    "# median NMHC(GT)\n",
    "median = data['NMHC(GT)'].median()\n",
    "print(median)\n",
    "\n",
    "# mean NMHC(GT)\n",
    "mean = data['NMHC(GT)'].mean()\n",
    "print(mean)\n",
    "\n",
    "# modus NMHC(GT)\n",
    "modus = data['NMHC(GT)'].mode()\n",
    "print(modus)"
   ]
  },
  {
   "cell_type": "code",
   "execution_count": 8,
   "metadata": {},
   "outputs": [
    {
     "name": "stdout",
     "output_type": "stream",
     "text": [
      "7.9\n",
      "1.8656834455487863\n",
      "0   -200.0\n",
      "Name: C6H6(GT), dtype: float64\n"
     ]
    }
   ],
   "source": [
    "# median C6H6(GT)\n",
    "median = data['C6H6(GT)'].median()\n",
    "print(median)\n",
    "\n",
    "# mean C6H6(GT)\n",
    "mean = data['C6H6(GT)'].mean()\n",
    "print(mean)\n",
    "\n",
    "# modus C6H6(GT)\n",
    "modus = data['C6H6(GT)'].mode()\n",
    "print(modus)"
   ]
  },
  {
   "cell_type": "code",
   "execution_count": 9,
   "metadata": {},
   "outputs": [
    {
     "name": "stdout",
     "output_type": "stream",
     "text": [
      "895.0\n",
      "894.5952762637597\n",
      "0   -200\n",
      "Name: PT08.S2(NMHC), dtype: int64\n"
     ]
    }
   ],
   "source": [
    "# median PT08.S2(NMHC)\n",
    "median = data['PT08.S2(NMHC)'].median()\n",
    "print(median)\n",
    "\n",
    "# mean PT08.S2(NMHC)\n",
    "mean = data['PT08.S2(NMHC)'].mean()\n",
    "print(mean)\n",
    "\n",
    "# modus PT08.S2(NMHC)\n",
    "modus = data['PT08.S2(NMHC)'].mode()\n",
    "print(modus)"
   ]
  },
  {
   "cell_type": "code",
   "execution_count": 10,
   "metadata": {},
   "outputs": [
    {
     "name": "stdout",
     "output_type": "stream",
     "text": [
      "141.0\n",
      "168.6169712514695\n",
      "0   -200\n",
      "Name: NOx(GT), dtype: int64\n"
     ]
    }
   ],
   "source": [
    "# median NOx(GT)\n",
    "median = data['NOx(GT)'].median()\n",
    "print(median)\n",
    "\n",
    "# mean NOx(GT)\n",
    "mean = data['NOx(GT)'].mean()\n",
    "print(mean)\n",
    "\n",
    "# modus NOx(GT)\n",
    "modus = data['NOx(GT)'].mode()\n",
    "print(modus)"
   ]
  },
  {
   "cell_type": "code",
   "execution_count": 11,
   "metadata": {},
   "outputs": [
    {
     "name": "stdout",
     "output_type": "stream",
     "text": [
      "794.0\n",
      "794.9901677888212\n",
      "0   -200\n",
      "Name: PT08.S3(NOx), dtype: int64\n"
     ]
    }
   ],
   "source": [
    "# median PT08.S3(NOx)\n",
    "median = data['PT08.S3(NOx)'].median()\n",
    "print(median)\n",
    "\n",
    "# mean PT08.S3(NOx)\n",
    "mean = data['PT08.S3(NOx)'].mean()\n",
    "print(mean)\n",
    "\n",
    "# modus PT08.S3(NOx)\n",
    "modus = data['PT08.S3(NOx)'].mode()\n",
    "print(modus)"
   ]
  },
  {
   "cell_type": "code",
   "execution_count": 12,
   "metadata": {},
   "outputs": [
    {
     "name": "stdout",
     "output_type": "stream",
     "text": [
      "96.0\n",
      "58.14887250187026\n",
      "0   -200\n",
      "Name: NO2(GT), dtype: int64\n"
     ]
    }
   ],
   "source": [
    "# median NO2(GT)\n",
    "median = data['NO2(GT)'].median()\n",
    "print(median)\n",
    "\n",
    "# mean NO2(GT)\n",
    "mean = data['NO2(GT)'].mean()\n",
    "print(mean)\n",
    "\n",
    "# modus NO2(GT)\n",
    "modus = data['NO2(GT)'].mode()\n",
    "print(modus)"
   ]
  },
  {
   "cell_type": "code",
   "execution_count": 13,
   "metadata": {},
   "outputs": [
    {
     "name": "stdout",
     "output_type": "stream",
     "text": [
      "1446.0\n",
      "1391.4796409105481\n",
      "0   -200\n",
      "Name: PT08.S4(NO2), dtype: int64\n"
     ]
    }
   ],
   "source": [
    "# median PT08.S4(NO2)\n",
    "median = data['PT08.S4(NO2)'].median()\n",
    "print(median)\n",
    "\n",
    "# mean PT08.S4(NO2)\n",
    "mean = data['PT08.S4(NO2)'].mean()\n",
    "print(mean)\n",
    "\n",
    "# modus PT08.S4(NO2)\n",
    "modus = data['PT08.S4(NO2)'].mode()\n",
    "print(modus)"
   ]
  },
  {
   "cell_type": "code",
   "execution_count": 14,
   "metadata": {},
   "outputs": [
    {
     "name": "stdout",
     "output_type": "stream",
     "text": [
      "942.0\n",
      "975.0720316340708\n",
      "0   -200\n",
      "Name: PT08.S5(O3), dtype: int64\n"
     ]
    }
   ],
   "source": [
    "# median PT08.S5(O3)\n",
    "median = data['PT08.S5(O3)'].median()\n",
    "print(median)\n",
    "\n",
    "# mean PT08.S5(O3)\n",
    "mean = data['PT08.S5(O3)'].mean()\n",
    "print(mean)\n",
    "\n",
    "# modus PT08.S5(O3)\n",
    "modus = data['PT08.S5(O3)'].mode()\n",
    "print(modus)"
   ]
  },
  {
   "cell_type": "code",
   "execution_count": 15,
   "metadata": {},
   "outputs": [
    {
     "name": "stdout",
     "output_type": "stream",
     "text": [
      "17.2\n",
      "9.778305012290264\n",
      "0   -200.0\n",
      "Name: T, dtype: float64\n"
     ]
    }
   ],
   "source": [
    "# median T\n",
    "median = data['T'].median()\n",
    "print(median)\n",
    "\n",
    "# mean PT08.S5(O3)\n",
    "mean = data['T'].mean()\n",
    "print(mean)\n",
    "\n",
    "# modus T\n",
    "modus = data['T'].mode()\n",
    "print(modus)"
   ]
  },
  {
   "cell_type": "code",
   "execution_count": 16,
   "metadata": {},
   "outputs": [
    {
     "name": "stdout",
     "output_type": "stream",
     "text": [
      "48.6\n",
      "39.48537992946458\n",
      "0   -200.0\n",
      "Name: RH, dtype: float64\n"
     ]
    }
   ],
   "source": [
    "# median RH\n",
    "median = data['RH'].median()\n",
    "print(median)\n",
    "\n",
    "# mean RH\n",
    "mean = data['RH'].mean()\n",
    "print(mean)\n",
    "\n",
    "# modus RH\n",
    "modus = data['RH'].mode()\n",
    "print(modus)"
   ]
  },
  {
   "cell_type": "code",
   "execution_count": 17,
   "metadata": {},
   "outputs": [
    {
     "name": "stdout",
     "output_type": "stream",
     "text": [
      "0.9768\n",
      "-6.837603644330447\n",
      "0   -200.0\n",
      "Name: AH, dtype: float64\n"
     ]
    }
   ],
   "source": [
    "# median AH\n",
    "median = data['AH'].median()\n",
    "print(median)\n",
    "\n",
    "# mean AH\n",
    "mean = data['AH'].mean()\n",
    "print(mean)\n",
    "\n",
    "# modus AH\n",
    "modus = data['AH'].mode()\n",
    "print(modus)"
   ]
  },
  {
   "cell_type": "markdown",
   "metadata": {},
   "source": [
    "### 3. Atasi missing value yang terjadi pada variabel CO(GT), NMHC(GT), C6H6(GT) menggunakan median dari masing-masing variabel tersebut !"
   ]
  },
  {
   "cell_type": "code",
   "execution_count": 18,
   "metadata": {},
   "outputs": [],
   "source": [
    "# replace missing value on CO(GT), NMHC(GT), and C6H6(GT) with median\n",
    "data['CO(GT)'].fillna(data['CO(GT)'].median(), inplace=True)\n",
    "data['NMHC(GT)'].fillna(data['NMHC(GT)'].median(), inplace=True)\n",
    "data['C6H6(GT)'].fillna(data['C6H6(GT)'].median(), inplace=True)"
   ]
  },
  {
   "cell_type": "markdown",
   "metadata": {},
   "source": [
    "### 4. Atasi missing value yang terjadi pada variabel NOx(GT) dan NO2(GT) menggunakan modus dari masing-masing variabel tersebut !"
   ]
  },
  {
   "cell_type": "code",
   "execution_count": 19,
   "metadata": {},
   "outputs": [],
   "source": [
    "# replace missing value on NOx(GT) and NO2(GT) with modus\n",
    "data['NOx(GT)'].fillna(data['NOx(GT)'].mode(), inplace=True)\n",
    "data['NO2(GT)'].fillna(data['NO2(GT)'].mode(), inplace=True)"
   ]
  },
  {
   "cell_type": "markdown",
   "metadata": {},
   "source": [
    "### 5. Atasi missing value yang terjadi pada variabel T dan RH menggunakan mean dari masing-masing variabel tersebut !"
   ]
  },
  {
   "cell_type": "code",
   "execution_count": 20,
   "metadata": {},
   "outputs": [],
   "source": [
    "# replace missing value on T and RH with mean\n",
    "data['NOx(GT)'].fillna(data['T'].mean(), inplace=True)\n",
    "data['NO2(GT)'].fillna(data['RH'].mean(), inplace=True)"
   ]
  },
  {
   "cell_type": "markdown",
   "metadata": {},
   "source": [
    "### 6. Bentuk variabel baru dengan membagi variabel “Relative Humidity” menjadi 2 kategori yaitu lembab dan kering (*kering=rendah) serta beri nama kategori menjadi “Kategori Kelembaban” !"
   ]
  },
  {
   "cell_type": "code",
   "execution_count": 21,
   "metadata": {},
   "outputs": [
    {
     "name": "stdout",
     "output_type": "stream",
     "text": [
      "0       Kering\n",
      "1       Kering\n",
      "2       Lembab\n",
      "3       Lembab\n",
      "4       Lembab\n",
      "         ...  \n",
      "9352    Kering\n",
      "9353    Kering\n",
      "9354    Kering\n",
      "9355    Kering\n",
      "9356    Kering\n",
      "Name: Kategori Kelembaban, Length: 9357, dtype: category\n",
      "Categories (2, object): ['Kering', 'Lembab']\n"
     ]
    }
   ],
   "source": [
    "# Kategori Kelembaban = 1 jika RH < 50% (kering)\n",
    "# Kategori Kelembaban = 2 jika RH >= 50% (lembab)\n",
    "data['Kategori Kelembaban'] = data['RH'].apply(lambda x: 'Kering' if x < 50 else 'Lembab')\n",
    "\n",
    "# Masukkan kategori kelembaban ke dalam data\n",
    "data['Kategori Kelembaban'] = data['Kategori Kelembaban'].astype('category')\n",
    "print(data['Kategori Kelembaban'])"
   ]
  },
  {
   "cell_type": "markdown",
   "metadata": {},
   "source": [
    "### 7. Import hasil data frame terbaru berbentuk .csv !"
   ]
  },
  {
   "cell_type": "code",
   "execution_count": 22,
   "metadata": {},
   "outputs": [],
   "source": [
    "# import hasil data frame ke csv\n",
    "data.to_csv('data/AirQualityUCI_AfterEdit.csv', index=False)"
   ]
  }
 ],
 "metadata": {
  "kernelspec": {
   "display_name": "Python 3",
   "language": "python",
   "name": "python3"
  },
  "language_info": {
   "codemirror_mode": {
    "name": "ipython",
    "version": 3
   },
   "file_extension": ".py",
   "mimetype": "text/x-python",
   "name": "python",
   "nbconvert_exporter": "python",
   "pygments_lexer": "ipython3",
   "version": "3.8.10"
  },
  "orig_nbformat": 4
 },
 "nbformat": 4,
 "nbformat_minor": 2
}
